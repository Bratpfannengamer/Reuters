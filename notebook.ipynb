{
 "cells": [
  {
   "cell_type": "code",
   "execution_count": 49,
   "metadata": {},
   "outputs": [],
   "source": [
    "import pandas as pd\n",
    "import ast\n",
    "from sklearn.preprocessing import MultiLabelBinarizer\n"
   ]
  },
  {
   "cell_type": "code",
   "execution_count": 50,
   "metadata": {},
   "outputs": [],
   "source": [
    "df=pd.read_csv('ModApte_test.csv')"
   ]
  },
  {
   "cell_type": "code",
   "execution_count": 51,
   "metadata": {},
   "outputs": [],
   "source": [
    "def series_to_list(df,column_name):\n",
    "    result=df[column_name].replace({' ':''},regex=True)\n",
    "    result.replace({'\\\\n':''},regex=True,inplace=True)\n",
    "    result.replace({'\\'\\'':'\\',\\''},regex=True,inplace=True)\n",
    "    return result.apply(ast.literal_eval)"
   ]
  },
  {
   "cell_type": "code",
   "execution_count": 52,
   "metadata": {},
   "outputs": [
    {
     "name": "stdout",
     "output_type": "stream",
     "text": [
      "<class 'pandas.core.frame.DataFrame'>\n",
      "RangeIndex: 3299 entries, 0 to 3298\n",
      "Data columns (total 13 columns):\n",
      " #   Column       Non-Null Count  Dtype \n",
      "---  ------       --------------  ----- \n",
      " 0   text         3023 non-null   object\n",
      " 1   text_type    3299 non-null   object\n",
      " 2   topics       3299 non-null   object\n",
      " 3   lewis_split  3299 non-null   object\n",
      " 4   cgis_split   3299 non-null   object\n",
      " 5   old_id       3299 non-null   object\n",
      " 6   new_id       3299 non-null   object\n",
      " 7   places       3299 non-null   object\n",
      " 8   people       3299 non-null   object\n",
      " 9   orgs         3299 non-null   object\n",
      " 10  exchanges    3299 non-null   object\n",
      " 11  date         3299 non-null   object\n",
      " 12  title        3285 non-null   object\n",
      "dtypes: object(13)\n",
      "memory usage: 335.2+ KB\n"
     ]
    }
   ],
   "source": [
    "df.info()"
   ]
  },
  {
   "cell_type": "code",
   "execution_count": 53,
   "metadata": {},
   "outputs": [
    {
     "data": {
      "text/plain": [
       "text           object\n",
       "text_type      object\n",
       "topics         object\n",
       "lewis_split    object\n",
       "cgis_split     object\n",
       "old_id         object\n",
       "new_id         object\n",
       "places         object\n",
       "people         object\n",
       "orgs           object\n",
       "exchanges      object\n",
       "date           object\n",
       "title          object\n",
       "dtype: object"
      ]
     },
     "execution_count": 53,
     "metadata": {},
     "output_type": "execute_result"
    }
   ],
   "source": [
    "df.dtypes"
   ]
  },
  {
   "cell_type": "code",
   "execution_count": 54,
   "metadata": {},
   "outputs": [
    {
     "data": {
      "text/html": [
       "<div>\n",
       "<style scoped>\n",
       "    .dataframe tbody tr th:only-of-type {\n",
       "        vertical-align: middle;\n",
       "    }\n",
       "\n",
       "    .dataframe tbody tr th {\n",
       "        vertical-align: top;\n",
       "    }\n",
       "\n",
       "    .dataframe thead th {\n",
       "        text-align: right;\n",
       "    }\n",
       "</style>\n",
       "<table border=\"1\" class=\"dataframe\">\n",
       "  <thead>\n",
       "    <tr style=\"text-align: right;\">\n",
       "      <th></th>\n",
       "      <th>text</th>\n",
       "      <th>text_type</th>\n",
       "      <th>topics</th>\n",
       "      <th>lewis_split</th>\n",
       "      <th>cgis_split</th>\n",
       "      <th>old_id</th>\n",
       "      <th>new_id</th>\n",
       "      <th>places</th>\n",
       "      <th>people</th>\n",
       "      <th>orgs</th>\n",
       "      <th>exchanges</th>\n",
       "      <th>date</th>\n",
       "      <th>title</th>\n",
       "    </tr>\n",
       "  </thead>\n",
       "  <tbody>\n",
       "    <tr>\n",
       "      <th>0</th>\n",
       "      <td>Mounting trade friction between the\\nU.S. And ...</td>\n",
       "      <td>\"NORM\"</td>\n",
       "      <td>['trade']</td>\n",
       "      <td>\"TEST\"</td>\n",
       "      <td>\"TRAINING-SET\"</td>\n",
       "      <td>\"3809\"</td>\n",
       "      <td>\"14826\"</td>\n",
       "      <td>['hong-kong' 'usa' 'japan' 'taiwan' 'malaysia'...</td>\n",
       "      <td>[]</td>\n",
       "      <td>[]</td>\n",
       "      <td>[]</td>\n",
       "      <td>8-APR-1987 01:03:47.52</td>\n",
       "      <td>ASIAN EXPORTERS FEAR DAMAGE FROM U.S.-JAPAN RIFT</td>\n",
       "    </tr>\n",
       "    <tr>\n",
       "      <th>1</th>\n",
       "      <td>A survey of 19 provinces and seven cities\\nsho...</td>\n",
       "      <td>\"NORM\"</td>\n",
       "      <td>['grain']</td>\n",
       "      <td>\"TEST\"</td>\n",
       "      <td>\"TRAINING-SET\"</td>\n",
       "      <td>\"3811\"</td>\n",
       "      <td>\"14828\"</td>\n",
       "      <td>['china']</td>\n",
       "      <td>[]</td>\n",
       "      <td>[]</td>\n",
       "      <td>[]</td>\n",
       "      <td>8-APR-1987 01:19:17.29</td>\n",
       "      <td>CHINA DAILY SAYS VERMIN EAT 7-12 PCT GRAIN STOCKS</td>\n",
       "    </tr>\n",
       "    <tr>\n",
       "      <th>2</th>\n",
       "      <td>The Ministry of International Trade and\\nIndus...</td>\n",
       "      <td>\"NORM\"</td>\n",
       "      <td>['crude' 'nat-gas']</td>\n",
       "      <td>\"TEST\"</td>\n",
       "      <td>\"TRAINING-SET\"</td>\n",
       "      <td>\"4356\"</td>\n",
       "      <td>\"14829\"</td>\n",
       "      <td>['japan']</td>\n",
       "      <td>[]</td>\n",
       "      <td>[]</td>\n",
       "      <td>[]</td>\n",
       "      <td>8-APR-1987 01:22:17.25</td>\n",
       "      <td>JAPAN TO REVISE LONG-TERM ENERGY DEMAND DOWNWARDS</td>\n",
       "    </tr>\n",
       "    <tr>\n",
       "      <th>3</th>\n",
       "      <td>Thailand's trade deficit widened to 4.5\\nbilli...</td>\n",
       "      <td>\"NORM\"</td>\n",
       "      <td>['trade' 'grain' 'rice' 'corn' 'sugar' 'tin' '...</td>\n",
       "      <td>\"TEST\"</td>\n",
       "      <td>\"TRAINING-SET\"</td>\n",
       "      <td>\"3815\"</td>\n",
       "      <td>\"14832\"</td>\n",
       "      <td>['thailand']</td>\n",
       "      <td>[]</td>\n",
       "      <td>[]</td>\n",
       "      <td>[]</td>\n",
       "      <td>8-APR-1987 01:45:09.09</td>\n",
       "      <td>THAI TRADE DEFICIT WIDENS IN FIRST QUARTER</td>\n",
       "    </tr>\n",
       "    <tr>\n",
       "      <th>4</th>\n",
       "      <td>Indonesia expects crude palm oil (CPO)\\nprices...</td>\n",
       "      <td>\"NORM\"</td>\n",
       "      <td>['veg-oil' 'palm-oil']</td>\n",
       "      <td>\"TEST\"</td>\n",
       "      <td>\"TRAINING-SET\"</td>\n",
       "      <td>\"3816\"</td>\n",
       "      <td>\"14833\"</td>\n",
       "      <td>['indonesia' 'malaysia']</td>\n",
       "      <td>[]</td>\n",
       "      <td>[]</td>\n",
       "      <td>[]</td>\n",
       "      <td>8-APR-1987 01:48:20.11</td>\n",
       "      <td>INDONESIA SEES CPO PRICE RISING SHARPLY</td>\n",
       "    </tr>\n",
       "  </tbody>\n",
       "</table>\n",
       "</div>"
      ],
      "text/plain": [
       "                                                text text_type  \\\n",
       "0  Mounting trade friction between the\\nU.S. And ...    \"NORM\"   \n",
       "1  A survey of 19 provinces and seven cities\\nsho...    \"NORM\"   \n",
       "2  The Ministry of International Trade and\\nIndus...    \"NORM\"   \n",
       "3  Thailand's trade deficit widened to 4.5\\nbilli...    \"NORM\"   \n",
       "4  Indonesia expects crude palm oil (CPO)\\nprices...    \"NORM\"   \n",
       "\n",
       "                                              topics lewis_split  \\\n",
       "0                                          ['trade']      \"TEST\"   \n",
       "1                                          ['grain']      \"TEST\"   \n",
       "2                                ['crude' 'nat-gas']      \"TEST\"   \n",
       "3  ['trade' 'grain' 'rice' 'corn' 'sugar' 'tin' '...      \"TEST\"   \n",
       "4                             ['veg-oil' 'palm-oil']      \"TEST\"   \n",
       "\n",
       "       cgis_split  old_id   new_id  \\\n",
       "0  \"TRAINING-SET\"  \"3809\"  \"14826\"   \n",
       "1  \"TRAINING-SET\"  \"3811\"  \"14828\"   \n",
       "2  \"TRAINING-SET\"  \"4356\"  \"14829\"   \n",
       "3  \"TRAINING-SET\"  \"3815\"  \"14832\"   \n",
       "4  \"TRAINING-SET\"  \"3816\"  \"14833\"   \n",
       "\n",
       "                                              places people orgs exchanges  \\\n",
       "0  ['hong-kong' 'usa' 'japan' 'taiwan' 'malaysia'...     []   []        []   \n",
       "1                                          ['china']     []   []        []   \n",
       "2                                          ['japan']     []   []        []   \n",
       "3                                       ['thailand']     []   []        []   \n",
       "4                           ['indonesia' 'malaysia']     []   []        []   \n",
       "\n",
       "                      date                                              title  \n",
       "0   8-APR-1987 01:03:47.52   ASIAN EXPORTERS FEAR DAMAGE FROM U.S.-JAPAN RIFT  \n",
       "1   8-APR-1987 01:19:17.29  CHINA DAILY SAYS VERMIN EAT 7-12 PCT GRAIN STOCKS  \n",
       "2   8-APR-1987 01:22:17.25  JAPAN TO REVISE LONG-TERM ENERGY DEMAND DOWNWARDS  \n",
       "3   8-APR-1987 01:45:09.09         THAI TRADE DEFICIT WIDENS IN FIRST QUARTER  \n",
       "4   8-APR-1987 01:48:20.11            INDONESIA SEES CPO PRICE RISING SHARPLY  "
      ]
     },
     "execution_count": 54,
     "metadata": {},
     "output_type": "execute_result"
    }
   ],
   "source": [
    "df.head()"
   ]
  },
  {
   "cell_type": "code",
   "execution_count": 55,
   "metadata": {},
   "outputs": [
    {
     "name": "stderr",
     "output_type": "stream",
     "text": [
      "C:\\Users\\theinrich\\AppData\\Local\\Temp\\ipykernel_19132\\3574597661.py:8: FutureWarning: A value is trying to be set on a copy of a DataFrame or Series through chained assignment using an inplace method.\n",
      "The behavior will change in pandas 3.0. This inplace method will never work because the intermediate object on which we are setting values always behaves as a copy.\n",
      "\n",
      "For example, when doing 'df[col].method(value, inplace=True)', try using 'df.method({col: value}, inplace=True)' or df[col] = df[col].method(value) instead, to perform the operation inplace on the original object.\n",
      "\n",
      "\n",
      "  df['topics'].replace({'\\''+food+'\\'':'\\'food\\''},regex=True,inplace=True)\n"
     ]
    }
   ],
   "source": [
    "foods = ['coconut', 'cotton-oil', 'sorghum', 'orange', 'rice', 'soybean', 'sun-meal', \n",
    "    'oilseed', 'sugar', 'hog', 'coffee', 'groundnut', 'sunseed', 'sun-oil', 'rye', \n",
    "    'lin-oil', 'copra-cake', 'potato', 'barley', 'tea', 'meal-feed', 'coconut-oil', \n",
    "    'palmkernel', 'cottonseed', 'castor-oil', 'l-cattle', 'livestock', 'soy-oil', \n",
    "    'rape-oil', 'palm-oil', 'cocoa', 'cotton', 'wheat', 'corn', 'f-cattle', 'grain', \n",
    "    'soy-meal', 'oat', 'groundnut-oil', 'veg-oil','rapeseed']\n",
    "for food in foods:\n",
    "    df['topics'].replace({'\\''+food+'\\'':'\\'food\\''},regex=True,inplace=True)"
   ]
  },
  {
   "cell_type": "code",
   "execution_count": 56,
   "metadata": {},
   "outputs": [],
   "source": [
    "resources = ['platinum', 'lead', 'nickel', 'strategic-metal', 'copper', 'palladium', 'gold', \n",
    "    'zinc', 'tin', 'iron-steel', 'alum', 'silver', 'nat-gas', 'rubber', 'pet-chem', 'fuel', 'crude','lumber','propane']\n",
    "for resource in resources:\n",
    "    df['topics'].replace({'\\''+resource+'\\'':'\\'resource\\''},regex=True,inplace=True)"
   ]
  },
  {
   "cell_type": "code",
   "execution_count": 57,
   "metadata": {},
   "outputs": [],
   "source": [
    "finances = ['money-supply', 'dlr', 'nkr', 'lei', 'yen', 'dfl', 'sfr', 'cpi', 'instal-debt', \n",
    "    'money-fx', 'gnp', 'interest', 'income', 'dmk', 'rand', 'bop', 'reserves', 'nzdlr','acq']\n",
    "for finance in finances:\n",
    "    df['topics'].replace({'\\''+finance+'\\'':'\\'finance\\''},regex=True,inplace=True)"
   ]
  },
  {
   "cell_type": "code",
   "execution_count": 58,
   "metadata": {},
   "outputs": [],
   "source": [
    "personal_finances = ['housing','jobs','earn']\n",
    "for personal_finance in personal_finances:\n",
    "    df['topics'].replace({'\\''+personal_finance+'\\'':'\\'personal_finance\\''},regex=True,inplace=True)"
   ]
  },
  {
   "cell_type": "code",
   "execution_count": 59,
   "metadata": {},
   "outputs": [],
   "source": [
    "transports = ['jet', 'ship']\n",
    "for transport in transports:\n",
    "    df['topics'].replace({'\\''+transport+'\\'':'\\'transport\\''},regex=True,inplace=True)"
   ]
  },
  {
   "cell_type": "code",
   "execution_count": 60,
   "metadata": {},
   "outputs": [],
   "source": [
    "removes = ['gas', 'heat', 'trade', 'retail', 'carcass', 'cpu', 'wpi', 'naphtha', 'ipi']\n",
    "for remove in removes:\n",
    "    df['topics'].replace({'\\''+remove+'\\'':''},regex=True,inplace=True)"
   ]
  },
  {
   "cell_type": "code",
   "execution_count": 61,
   "metadata": {},
   "outputs": [],
   "source": [
    "df['topics'].replace({' ':''},regex=True,inplace=True)"
   ]
  },
  {
   "cell_type": "code",
   "execution_count": null,
   "metadata": {},
   "outputs": [],
   "source": []
  },
  {
   "cell_type": "code",
   "execution_count": 62,
   "metadata": {},
   "outputs": [
    {
     "name": "stdout",
     "output_type": "stream",
     "text": [
      "places\n",
      "[usa]                                                    1786\n",
      "[]                                                        228\n",
      "[uk]                                                      142\n",
      "[canada]                                                  132\n",
      "[japan]                                                    64\n",
      "                                                         ... \n",
      "[japan, usa, uk, west-germany, france, italy, canada]       1\n",
      "[new-zealand, fiji]                                         1\n",
      "[iran, ussr, cyprus]                                        1\n",
      "[japan, west-germany, usa]                                  1\n",
      "[hong-kong, japan, india, pakistan, iran, iraq]             1\n",
      "Name: count, Length: 359, dtype: int64\n",
      "people\n",
      "[]                      3127\n",
      "[reagan]                  13\n",
      "[james-baker]             11\n",
      "[lyng]                    10\n",
      "[miyazawa]                10\n",
      "                        ... \n",
      "[delors]                   1\n",
      "[reagan, verity]           1\n",
      "[yeutter, de-clercq]       1\n",
      "[perez-de-cuellar]         1\n",
      "[poehl, stoltenberg]       1\n",
      "Name: count, Length: 76, dtype: int64\n",
      "orgs\n",
      "[]                  3132\n",
      "[ec]                  54\n",
      "[opec]                30\n",
      "[imf]                 24\n",
      "[oecd]                12\n",
      "[icco]                 9\n",
      "[ico-coffee]           7\n",
      "[gatt]                 5\n",
      "[ec, gatt]             3\n",
      "[gatt, ec]             3\n",
      "[itc]                  3\n",
      "[worldbank]            3\n",
      "[inro]                 2\n",
      "[eib]                  2\n",
      "[ida, worldbank]       2\n",
      "[adb-africa]           2\n",
      "[itc, ec]              1\n",
      "[fao]                  1\n",
      "[itc, atpc]            1\n",
      "[imf, worldbank]       1\n",
      "[ida]                  1\n",
      "[ec, gatt, fao]        1\n",
      "Name: count, dtype: int64\n",
      "exchanges\n",
      "[]              3276\n",
      "[lme]              4\n",
      "[amex]             4\n",
      "[nymex]            3\n",
      "[comex]            3\n",
      "[nasdaq]           2\n",
      "[tse, lse]         1\n",
      "[nyce]             1\n",
      "[ase]              1\n",
      "[cbt]              1\n",
      "[liffe]            1\n",
      "[amex, tose]       1\n",
      "[tse]              1\n",
      "Name: count, dtype: int64\n"
     ]
    }
   ],
   "source": [
    "df['topics']=series_to_list(df,'topics')\n",
    "headers=['places','people','orgs','exchanges']\n",
    "for header in headers:\n",
    "    df[header]=series_to_list(df,header)\n",
    "    print(df[header].value_counts())\n"
   ]
  },
  {
   "cell_type": "code",
   "execution_count": 63,
   "metadata": {},
   "outputs": [],
   "source": [
    "\n",
    "df = df.join(pd.crosstab((s:=df['places'].explode()).index, s).add_prefix('places'+'_'))\n",
    "df.drop(columns=headers,inplace=True)\n",
    "df.drop(columns=['lewis_split','cgis_split','old_id','new_id'],inplace=True)"
   ]
  },
  {
   "cell_type": "code",
   "execution_count": 102,
   "metadata": {},
   "outputs": [
    {
     "data": {
      "text/html": [
       "<div>\n",
       "<style scoped>\n",
       "    .dataframe tbody tr th:only-of-type {\n",
       "        vertical-align: middle;\n",
       "    }\n",
       "\n",
       "    .dataframe tbody tr th {\n",
       "        vertical-align: top;\n",
       "    }\n",
       "\n",
       "    .dataframe thead th {\n",
       "        text-align: right;\n",
       "    }\n",
       "</style>\n",
       "<table border=\"1\" class=\"dataframe\">\n",
       "  <thead>\n",
       "    <tr style=\"text-align: right;\">\n",
       "      <th></th>\n",
       "      <th>text</th>\n",
       "      <th>text_type</th>\n",
       "      <th>topics</th>\n",
       "      <th>date</th>\n",
       "      <th>title</th>\n",
       "      <th>places_algeria</th>\n",
       "      <th>places_argentina</th>\n",
       "      <th>places_australia</th>\n",
       "      <th>places_austria</th>\n",
       "      <th>places_bahrain</th>\n",
       "      <th>...</th>\n",
       "      <th>places_usa</th>\n",
       "      <th>places_ussr</th>\n",
       "      <th>places_venezuela</th>\n",
       "      <th>places_west-germany</th>\n",
       "      <th>places_yemen-arab-republic</th>\n",
       "      <th>places_yemen-demo-republic</th>\n",
       "      <th>places_yugoslavia</th>\n",
       "      <th>places_zaire</th>\n",
       "      <th>places_zambia</th>\n",
       "      <th>places_zimbabwe</th>\n",
       "    </tr>\n",
       "  </thead>\n",
       "  <tbody>\n",
       "    <tr>\n",
       "      <th>1</th>\n",
       "      <td>A survey of 19 provinces and seven cities\\nsho...</td>\n",
       "      <td>NORM</td>\n",
       "      <td>food</td>\n",
       "      <td>8-APR-1987 01:19:17.29</td>\n",
       "      <td>CHINA DAILY SAYS VERMIN EAT 7-12 PCT GRAIN STOCKS</td>\n",
       "      <td>0.0</td>\n",
       "      <td>0.0</td>\n",
       "      <td>0.0</td>\n",
       "      <td>0.0</td>\n",
       "      <td>0.0</td>\n",
       "      <td>...</td>\n",
       "      <td>0.0</td>\n",
       "      <td>0.0</td>\n",
       "      <td>0.0</td>\n",
       "      <td>0.0</td>\n",
       "      <td>0.0</td>\n",
       "      <td>0.0</td>\n",
       "      <td>0.0</td>\n",
       "      <td>0.0</td>\n",
       "      <td>0.0</td>\n",
       "      <td>0.0</td>\n",
       "    </tr>\n",
       "    <tr>\n",
       "      <th>6</th>\n",
       "      <td>Tug crews in New South Wales (NSW),\\nVictoria ...</td>\n",
       "      <td>NORM</td>\n",
       "      <td>transport</td>\n",
       "      <td>8-APR-1987 02:42:14.86</td>\n",
       "      <td>AUSTRALIAN FOREIGN SHIP BAN ENDS BUT NSW PORTS...</td>\n",
       "      <td>0.0</td>\n",
       "      <td>0.0</td>\n",
       "      <td>1.0</td>\n",
       "      <td>0.0</td>\n",
       "      <td>0.0</td>\n",
       "      <td>...</td>\n",
       "      <td>0.0</td>\n",
       "      <td>0.0</td>\n",
       "      <td>0.0</td>\n",
       "      <td>0.0</td>\n",
       "      <td>0.0</td>\n",
       "      <td>0.0</td>\n",
       "      <td>0.0</td>\n",
       "      <td>0.0</td>\n",
       "      <td>0.0</td>\n",
       "      <td>0.0</td>\n",
       "    </tr>\n",
       "    <tr>\n",
       "      <th>9</th>\n",
       "      <td>Western Mining Corp Holdings Ltd\\n&amp;lt;WMNG.S&gt; ...</td>\n",
       "      <td>NORM</td>\n",
       "      <td>resource</td>\n",
       "      <td>8-APR-1987 03:21:39.74</td>\n",
       "      <td>WESTERN MINING TO OPEN NEW GOLD MINE IN AUSTRALIA</td>\n",
       "      <td>0.0</td>\n",
       "      <td>0.0</td>\n",
       "      <td>1.0</td>\n",
       "      <td>0.0</td>\n",
       "      <td>0.0</td>\n",
       "      <td>...</td>\n",
       "      <td>0.0</td>\n",
       "      <td>0.0</td>\n",
       "      <td>0.0</td>\n",
       "      <td>0.0</td>\n",
       "      <td>0.0</td>\n",
       "      <td>0.0</td>\n",
       "      <td>0.0</td>\n",
       "      <td>0.0</td>\n",
       "      <td>0.0</td>\n",
       "      <td>0.0</td>\n",
       "    </tr>\n",
       "    <tr>\n",
       "      <th>10</th>\n",
       "      <td>Sumitomo Bank Ltd &amp;lt;SUMI.T&gt; is certain to\\nl...</td>\n",
       "      <td>NORM</td>\n",
       "      <td>finance</td>\n",
       "      <td>8-APR-1987 03:29:34.51</td>\n",
       "      <td>SUMITOMO BANK AIMS AT QUICK RECOVERY FROM MERGER</td>\n",
       "      <td>0.0</td>\n",
       "      <td>0.0</td>\n",
       "      <td>0.0</td>\n",
       "      <td>0.0</td>\n",
       "      <td>0.0</td>\n",
       "      <td>...</td>\n",
       "      <td>1.0</td>\n",
       "      <td>0.0</td>\n",
       "      <td>0.0</td>\n",
       "      <td>0.0</td>\n",
       "      <td>0.0</td>\n",
       "      <td>0.0</td>\n",
       "      <td>0.0</td>\n",
       "      <td>0.0</td>\n",
       "      <td>0.0</td>\n",
       "      <td>0.0</td>\n",
       "    </tr>\n",
       "    <tr>\n",
       "      <th>11</th>\n",
       "      <td>Mines and Energy Minister Subroto\\nconfirmed I...</td>\n",
       "      <td>NORM</td>\n",
       "      <td>resource</td>\n",
       "      <td>8-APR-1987 03:45:20.53</td>\n",
       "      <td>SUBROTO SAYS INDONESIA SUPPORTS TIN PACT EXTEN...</td>\n",
       "      <td>0.0</td>\n",
       "      <td>0.0</td>\n",
       "      <td>0.0</td>\n",
       "      <td>0.0</td>\n",
       "      <td>0.0</td>\n",
       "      <td>...</td>\n",
       "      <td>0.0</td>\n",
       "      <td>0.0</td>\n",
       "      <td>0.0</td>\n",
       "      <td>0.0</td>\n",
       "      <td>0.0</td>\n",
       "      <td>0.0</td>\n",
       "      <td>0.0</td>\n",
       "      <td>0.0</td>\n",
       "      <td>0.0</td>\n",
       "      <td>0.0</td>\n",
       "    </tr>\n",
       "  </tbody>\n",
       "</table>\n",
       "<p>5 rows × 114 columns</p>\n",
       "</div>"
      ],
      "text/plain": [
       "                                                 text text_type     topics  \\\n",
       "1   A survey of 19 provinces and seven cities\\nsho...      NORM       food   \n",
       "6   Tug crews in New South Wales (NSW),\\nVictoria ...      NORM  transport   \n",
       "9   Western Mining Corp Holdings Ltd\\n&lt;WMNG.S> ...      NORM   resource   \n",
       "10  Sumitomo Bank Ltd &lt;SUMI.T> is certain to\\nl...      NORM    finance   \n",
       "11  Mines and Energy Minister Subroto\\nconfirmed I...      NORM   resource   \n",
       "\n",
       "                       date  \\\n",
       "1    8-APR-1987 01:19:17.29   \n",
       "6    8-APR-1987 02:42:14.86   \n",
       "9    8-APR-1987 03:21:39.74   \n",
       "10   8-APR-1987 03:29:34.51   \n",
       "11   8-APR-1987 03:45:20.53   \n",
       "\n",
       "                                                title  places_algeria  \\\n",
       "1   CHINA DAILY SAYS VERMIN EAT 7-12 PCT GRAIN STOCKS             0.0   \n",
       "6   AUSTRALIAN FOREIGN SHIP BAN ENDS BUT NSW PORTS...             0.0   \n",
       "9   WESTERN MINING TO OPEN NEW GOLD MINE IN AUSTRALIA             0.0   \n",
       "10   SUMITOMO BANK AIMS AT QUICK RECOVERY FROM MERGER             0.0   \n",
       "11  SUBROTO SAYS INDONESIA SUPPORTS TIN PACT EXTEN...             0.0   \n",
       "\n",
       "    places_argentina  places_australia  places_austria  places_bahrain  ...  \\\n",
       "1                0.0               0.0             0.0             0.0  ...   \n",
       "6                0.0               1.0             0.0             0.0  ...   \n",
       "9                0.0               1.0             0.0             0.0  ...   \n",
       "10               0.0               0.0             0.0             0.0  ...   \n",
       "11               0.0               0.0             0.0             0.0  ...   \n",
       "\n",
       "    places_usa  places_ussr  places_venezuela  places_west-germany  \\\n",
       "1          0.0          0.0               0.0                  0.0   \n",
       "6          0.0          0.0               0.0                  0.0   \n",
       "9          0.0          0.0               0.0                  0.0   \n",
       "10         1.0          0.0               0.0                  0.0   \n",
       "11         0.0          0.0               0.0                  0.0   \n",
       "\n",
       "    places_yemen-arab-republic  places_yemen-demo-republic  places_yugoslavia  \\\n",
       "1                          0.0                         0.0                0.0   \n",
       "6                          0.0                         0.0                0.0   \n",
       "9                          0.0                         0.0                0.0   \n",
       "10                         0.0                         0.0                0.0   \n",
       "11                         0.0                         0.0                0.0   \n",
       "\n",
       "    places_zaire  places_zambia  places_zimbabwe  \n",
       "1            0.0            0.0              0.0  \n",
       "6            0.0            0.0              0.0  \n",
       "9            0.0            0.0              0.0  \n",
       "10           0.0            0.0              0.0  \n",
       "11           0.0            0.0              0.0  \n",
       "\n",
       "[5 rows x 114 columns]"
      ]
     },
     "execution_count": 102,
     "metadata": {},
     "output_type": "execute_result"
    }
   ],
   "source": [
    "df.head()"
   ]
  },
  {
   "cell_type": "code",
   "execution_count": 75,
   "metadata": {},
   "outputs": [
    {
     "name": "stderr",
     "output_type": "stream",
     "text": [
      "C:\\Users\\theinrich\\AppData\\Local\\Temp\\ipykernel_19132\\1352241873.py:2: FutureWarning: A value is trying to be set on a copy of a DataFrame or Series through chained assignment using an inplace method.\n",
      "The behavior will change in pandas 3.0. This inplace method will never work because the intermediate object on which we are setting values always behaves as a copy.\n",
      "\n",
      "For example, when doing 'df[col].method(value, inplace=True)', try using 'df.method({col: value}, inplace=True)' or df[col] = df[col].method(value) instead, to perform the operation inplace on the original object.\n",
      "\n",
      "\n",
      "  df[col].fillna(value=0,inplace=True)\n"
     ]
    }
   ],
   "source": [
    "for col  in [col for col in df if col.startswith('places_')]:\n",
    "    df[col].fillna(value=0,inplace=True)\n",
    "df['text'].dropna(inplace=True)\n",
    "df=df[df['topics'].str.len()==1]\n",
    "df['topics']=df['topics'].apply(lambda x : x[0])"
   ]
  },
  {
   "cell_type": "code",
   "execution_count": 92,
   "metadata": {},
   "outputs": [
    {
     "name": "stderr",
     "output_type": "stream",
     "text": [
      "C:\\Users\\theinrich\\AppData\\Local\\Temp\\ipykernel_19132\\187516221.py:1: FutureWarning: A value is trying to be set on a copy of a DataFrame or Series through chained assignment using an inplace method.\n",
      "The behavior will change in pandas 3.0. This inplace method will never work because the intermediate object on which we are setting values always behaves as a copy.\n",
      "\n",
      "For example, when doing 'df[col].method(value, inplace=True)', try using 'df.method({col: value}, inplace=True)' or df[col] = df[col].method(value) instead, to perform the operation inplace on the original object.\n",
      "\n",
      "\n",
      "  df['text_type'].replace({'\"':''},regex=True,inplace=True)\n"
     ]
    }
   ],
   "source": [
    "df['text_type'].replace({'\"':''},regex=True,inplace=True)\n"
   ]
  },
  {
   "cell_type": "code",
   "execution_count": 103,
   "metadata": {},
   "outputs": [
    {
     "ename": "AttributeError",
     "evalue": "Can only use .dt accessor with datetimelike values",
     "output_type": "error",
     "traceback": [
      "\u001b[1;31m---------------------------------------------------------------------------\u001b[0m",
      "\u001b[1;31mAttributeError\u001b[0m                            Traceback (most recent call last)",
      "Cell \u001b[1;32mIn[103], line 1\u001b[0m\n\u001b[1;32m----> 1\u001b[0m \u001b[43mdf\u001b[49m\u001b[43m[\u001b[49m\u001b[38;5;124;43m'\u001b[39;49m\u001b[38;5;124;43mdate\u001b[39;49m\u001b[38;5;124;43m'\u001b[39;49m\u001b[43m]\u001b[49m\u001b[38;5;241;43m.\u001b[39;49m\u001b[43mdt\u001b[49m\u001b[38;5;241m.\u001b[39mday\n",
      "File \u001b[1;32m~\\AppData\\Local\\Programs\\Python\\Python311\\Lib\\site-packages\\pandas\\core\\generic.py:6299\u001b[0m, in \u001b[0;36mNDFrame.__getattr__\u001b[1;34m(self, name)\u001b[0m\n\u001b[0;32m   6292\u001b[0m \u001b[38;5;28;01mif\u001b[39;00m (\n\u001b[0;32m   6293\u001b[0m     name \u001b[38;5;129;01mnot\u001b[39;00m \u001b[38;5;129;01min\u001b[39;00m \u001b[38;5;28mself\u001b[39m\u001b[38;5;241m.\u001b[39m_internal_names_set\n\u001b[0;32m   6294\u001b[0m     \u001b[38;5;129;01mand\u001b[39;00m name \u001b[38;5;129;01mnot\u001b[39;00m \u001b[38;5;129;01min\u001b[39;00m \u001b[38;5;28mself\u001b[39m\u001b[38;5;241m.\u001b[39m_metadata\n\u001b[0;32m   6295\u001b[0m     \u001b[38;5;129;01mand\u001b[39;00m name \u001b[38;5;129;01mnot\u001b[39;00m \u001b[38;5;129;01min\u001b[39;00m \u001b[38;5;28mself\u001b[39m\u001b[38;5;241m.\u001b[39m_accessors\n\u001b[0;32m   6296\u001b[0m     \u001b[38;5;129;01mand\u001b[39;00m \u001b[38;5;28mself\u001b[39m\u001b[38;5;241m.\u001b[39m_info_axis\u001b[38;5;241m.\u001b[39m_can_hold_identifiers_and_holds_name(name)\n\u001b[0;32m   6297\u001b[0m ):\n\u001b[0;32m   6298\u001b[0m     \u001b[38;5;28;01mreturn\u001b[39;00m \u001b[38;5;28mself\u001b[39m[name]\n\u001b[1;32m-> 6299\u001b[0m \u001b[38;5;28;01mreturn\u001b[39;00m \u001b[38;5;28;43mobject\u001b[39;49m\u001b[38;5;241;43m.\u001b[39;49m\u001b[38;5;21;43m__getattribute__\u001b[39;49m\u001b[43m(\u001b[49m\u001b[38;5;28;43mself\u001b[39;49m\u001b[43m,\u001b[49m\u001b[43m \u001b[49m\u001b[43mname\u001b[49m\u001b[43m)\u001b[49m\n",
      "File \u001b[1;32m~\\AppData\\Local\\Programs\\Python\\Python311\\Lib\\site-packages\\pandas\\core\\accessor.py:224\u001b[0m, in \u001b[0;36mCachedAccessor.__get__\u001b[1;34m(self, obj, cls)\u001b[0m\n\u001b[0;32m    221\u001b[0m \u001b[38;5;28;01mif\u001b[39;00m obj \u001b[38;5;129;01mis\u001b[39;00m \u001b[38;5;28;01mNone\u001b[39;00m:\n\u001b[0;32m    222\u001b[0m     \u001b[38;5;66;03m# we're accessing the attribute of the class, i.e., Dataset.geo\u001b[39;00m\n\u001b[0;32m    223\u001b[0m     \u001b[38;5;28;01mreturn\u001b[39;00m \u001b[38;5;28mself\u001b[39m\u001b[38;5;241m.\u001b[39m_accessor\n\u001b[1;32m--> 224\u001b[0m accessor_obj \u001b[38;5;241m=\u001b[39m \u001b[38;5;28;43mself\u001b[39;49m\u001b[38;5;241;43m.\u001b[39;49m\u001b[43m_accessor\u001b[49m\u001b[43m(\u001b[49m\u001b[43mobj\u001b[49m\u001b[43m)\u001b[49m\n\u001b[0;32m    225\u001b[0m \u001b[38;5;66;03m# Replace the property with the accessor object. Inspired by:\u001b[39;00m\n\u001b[0;32m    226\u001b[0m \u001b[38;5;66;03m# https://www.pydanny.com/cached-property.html\u001b[39;00m\n\u001b[0;32m    227\u001b[0m \u001b[38;5;66;03m# We need to use object.__setattr__ because we overwrite __setattr__ on\u001b[39;00m\n\u001b[0;32m    228\u001b[0m \u001b[38;5;66;03m# NDFrame\u001b[39;00m\n\u001b[0;32m    229\u001b[0m \u001b[38;5;28mobject\u001b[39m\u001b[38;5;241m.\u001b[39m\u001b[38;5;21m__setattr__\u001b[39m(obj, \u001b[38;5;28mself\u001b[39m\u001b[38;5;241m.\u001b[39m_name, accessor_obj)\n",
      "File \u001b[1;32m~\\AppData\\Local\\Programs\\Python\\Python311\\Lib\\site-packages\\pandas\\core\\indexes\\accessors.py:643\u001b[0m, in \u001b[0;36mCombinedDatetimelikeProperties.__new__\u001b[1;34m(cls, data)\u001b[0m\n\u001b[0;32m    640\u001b[0m \u001b[38;5;28;01melif\u001b[39;00m \u001b[38;5;28misinstance\u001b[39m(data\u001b[38;5;241m.\u001b[39mdtype, PeriodDtype):\n\u001b[0;32m    641\u001b[0m     \u001b[38;5;28;01mreturn\u001b[39;00m PeriodProperties(data, orig)\n\u001b[1;32m--> 643\u001b[0m \u001b[38;5;28;01mraise\u001b[39;00m \u001b[38;5;167;01mAttributeError\u001b[39;00m(\u001b[38;5;124m\"\u001b[39m\u001b[38;5;124mCan only use .dt accessor with datetimelike values\u001b[39m\u001b[38;5;124m\"\u001b[39m)\n",
      "\u001b[1;31mAttributeError\u001b[0m: Can only use .dt accessor with datetimelike values"
     ]
    }
   ],
   "source": [
    "df['date'].dt.day"
   ]
  },
  {
   "cell_type": "code",
   "execution_count": 88,
   "metadata": {},
   "outputs": [
    {
     "data": {
      "text/plain": [
       "text_type\n",
       "\"NORM\"      2272\n",
       "\"BRIEF\"      222\n",
       "\"UNPROC\"      12\n",
       "Name: count, dtype: int64"
      ]
     },
     "execution_count": 88,
     "metadata": {},
     "output_type": "execute_result"
    }
   ],
   "source": [
    "df['text_type'].value_counts()"
   ]
  },
  {
   "cell_type": "code",
   "execution_count": 83,
   "metadata": {},
   "outputs": [
    {
     "data": {
      "text/plain": [
       "np.int64(2808)"
      ]
     },
     "execution_count": 83,
     "metadata": {},
     "output_type": "execute_result"
    }
   ],
   "source": [
    "test=test[test.str.len()==1]\n",
    "test.count()"
   ]
  },
  {
   "cell_type": "code",
   "execution_count": 132,
   "metadata": {},
   "outputs": [
    {
     "name": "stdout",
     "output_type": "stream",
     "text": [
      "{'resource', 'personal_finance', 'food', 'transport', 'finance'}\n"
     ]
    }
   ],
   "source": [
    "unique_entries = set()\n",
    "for sublist in test[test.str.len()==1]:\n",
    "    unique_entries.update(sublist)\n",
    "\n",
    "print(unique_entries)"
   ]
  },
  {
   "cell_type": "code",
   "execution_count": 84,
   "metadata": {},
   "outputs": [
    {
     "data": {
      "text/plain": [
       "topics\n",
       "[personal_finance]    1098\n",
       "[finance]             1083\n",
       "[resource]             296\n",
       "[food]                 294\n",
       "[transport]             37\n",
       "Name: count, dtype: int64"
      ]
     },
     "execution_count": 84,
     "metadata": {},
     "output_type": "execute_result"
    }
   ],
   "source": [
    "test.value_counts()\n"
   ]
  }
 ],
 "metadata": {
  "kernelspec": {
   "display_name": "Python 3",
   "language": "python",
   "name": "python3"
  },
  "language_info": {
   "codemirror_mode": {
    "name": "ipython",
    "version": 3
   },
   "file_extension": ".py",
   "mimetype": "text/x-python",
   "name": "python",
   "nbconvert_exporter": "python",
   "pygments_lexer": "ipython3",
   "version": "3.11.4"
  }
 },
 "nbformat": 4,
 "nbformat_minor": 2
}
